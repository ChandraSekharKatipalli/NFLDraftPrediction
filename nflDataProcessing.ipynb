{
 "cells": [
  {
   "cell_type": "code",
   "execution_count": 1,
   "metadata": {},
   "outputs": [
    {
     "name": "stdout",
     "output_type": "stream",
     "text": [
      "D:\\602_IntroToML\\NFLDraftPrediction\\Data\\Data_2000.csv\n",
      "D:\\602_IntroToML\\NFLDraftPrediction\\Data\\Data_2001.csv\n",
      "D:\\602_IntroToML\\NFLDraftPrediction\\Data\\Data_2002.csv\n",
      "D:\\602_IntroToML\\NFLDraftPrediction\\Data\\Data_2003.csv\n",
      "D:\\602_IntroToML\\NFLDraftPrediction\\Data\\Data_2004.csv\n",
      "D:\\602_IntroToML\\NFLDraftPrediction\\Data\\Data_2005.csv\n",
      "D:\\602_IntroToML\\NFLDraftPrediction\\Data\\Data_2006.csv\n",
      "D:\\602_IntroToML\\NFLDraftPrediction\\Data\\Data_2007.csv\n",
      "D:\\602_IntroToML\\NFLDraftPrediction\\Data\\Data_2008.csv\n",
      "D:\\602_IntroToML\\NFLDraftPrediction\\Data\\Data_2009.csv\n",
      "D:\\602_IntroToML\\NFLDraftPrediction\\Data\\Data_2010.csv\n",
      "D:\\602_IntroToML\\NFLDraftPrediction\\Data\\Data_2011.csv\n",
      "D:\\602_IntroToML\\NFLDraftPrediction\\Data\\Data_2012.csv\n",
      "D:\\602_IntroToML\\NFLDraftPrediction\\Data\\Data_2013.csv\n",
      "D:\\602_IntroToML\\NFLDraftPrediction\\Data\\Data_2014.csv\n",
      "D:\\602_IntroToML\\NFLDraftPrediction\\Data\\Data_2015.csv\n",
      "D:\\602_IntroToML\\NFLDraftPrediction\\Data\\Data_2016.csv\n",
      "D:\\602_IntroToML\\NFLDraftPrediction\\Data\\Data_2017.csv\n",
      "D:\\602_IntroToML\\NFLDraftPrediction\\Data\\Data_2018.csv\n",
      "D:\\602_IntroToML\\NFLDraftPrediction\\Data\\Data_2019.csv\n",
      "D:\\602_IntroToML\\NFLDraftPrediction\\Data\\Data_2020.csv\n",
      "D:\\602_IntroToML\\NFLDraftPrediction\\Data\\Data_2021.csv\n",
      "D:\\602_IntroToML\\NFLDraftPrediction\\Data\\Data_2022.csv\n",
      "D:\\602_IntroToML\\NFLDraftPrediction\\Data\\Data_2023.csv\n",
      "                Player   Pos  \\\n",
      "0         John Abraham   OLB   \n",
      "1      Shaun Alexander    RB   \n",
      "2       Darnell Alford    OT   \n",
      "3       Darnell Alford    TE   \n",
      "4     Rashard Anderson    CB   \n",
      "...                ...   ...   \n",
      "8141       Luke Wypler     C   \n",
      "8142       Bryce Young    QB   \n",
      "8143       Byron Young    DT   \n",
      "8144       Byron Young  EDGE   \n",
      "8145     Cameron Young    DT   \n",
      "\n",
      "                                             stats_link    Ht     Wt  40yd  \\\n",
      "0                                                         6-4  252.0  4.55   \n",
      "1     https://www.sports-reference.com/cfb/players/s...   6-0  218.0  4.58   \n",
      "2                                                         6-4  334.0  5.56   \n",
      "3                                                         6-2  253.0  4.97   \n",
      "4                                                         6-2  206.0  4.55   \n",
      "...                                                 ...   ...    ...   ...   \n",
      "8141  https://www.sports-reference.com/cfb/players/l...   6-3  303.0  5.14   \n",
      "8142  https://www.sports-reference.com/cfb/players/b...  5-10  204.0   NaN   \n",
      "8143  https://www.sports-reference.com/cfb/players/b...   6-3  294.0   NaN   \n",
      "8144  https://www.sports-reference.com/cfb/players/b...   6-2  250.0  4.43   \n",
      "8145  https://www.sports-reference.com/cfb/players/c...   6-3  304.0  5.10   \n",
      "\n",
      "      Vertical  Bench  Broad Jump  3Cone  Shuttle  \\\n",
      "0          NaN    NaN         NaN    NaN      NaN   \n",
      "1          NaN    NaN         NaN    NaN      NaN   \n",
      "2         25.0   23.0        94.0   8.48     4.98   \n",
      "3         29.0    NaN       104.0   7.29     4.49   \n",
      "4         34.0    NaN       123.0   7.18     4.15   \n",
      "...        ...    ...         ...    ...      ...   \n",
      "8141      30.5    NaN       106.0   7.64     4.53   \n",
      "8142       NaN    NaN         NaN    NaN      NaN   \n",
      "8143      26.0   24.0       108.0   7.68      NaN   \n",
      "8144      38.0   22.0       132.0   7.19      NaN   \n",
      "8145       NaN    NaN         NaN    NaN      NaN   \n",
      "\n",
      "                               Drafted (tm/rnd/yr)  year  \n",
      "0           New York Jets / 1st / 13th pick / 2000  2000  \n",
      "1        Seattle Seahawks / 1st / 19th pick / 2000  2000  \n",
      "2     Kansas City Chiefs / 6th / 188th pick / 2000  2000  \n",
      "3                                              NaN  2000  \n",
      "4       Carolina Panthers / 1st / 23rd pick / 2000  2000  \n",
      "...                                            ...   ...  \n",
      "8141    Cleveland Browns / 6th / 190th pick / 2023  2023  \n",
      "8142     Carolina Panthers / 1st / 1st pick / 2023  2023  \n",
      "8143    Las Vegas Raiders / 3rd / 70th pick / 2023  2023  \n",
      "8144     Los Angeles Rams / 3rd / 77th pick / 2023  2023  \n",
      "8145    Seattle Seahawks / 4th / 123rd pick / 2023  2023  \n",
      "\n",
      "[8146 rows x 13 columns]\n"
     ]
    }
   ],
   "source": [
    "import pandas as pd\n",
    "import os\n",
    "\n",
    "# Directory containing your CSV files\n",
    "directory = \"D:\\\\602_IntroToML\\\\NFLDraftPrediction\\\\Data\"\n",
    "\n",
    "# List to store DataFrames\n",
    "dfs = []\n",
    "\n",
    "# Loop through each CSV file in the directory\n",
    "for filename in os.listdir(directory):\n",
    "    if filename.endswith('.csv'):\n",
    "        # Read the CSV file into a DataFrame\n",
    "        filepath = os.path.join(directory, filename)\n",
    "        print(filepath)\n",
    "        df = pd.read_csv(filepath)\n",
    "        # Append the DataFrame to the list\n",
    "        dfs.append(df)\n",
    "\n",
    "# Concatenate all DataFrames into a single DataFrame\n",
    "final_df = pd.concat(dfs, ignore_index=True)\n",
    "\n",
    "# Display the final DataFrame\n",
    "print(final_df)\n"
   ]
  },
  {
   "cell_type": "code",
   "execution_count": 2,
   "metadata": {},
   "outputs": [
    {
     "name": "stdout",
     "output_type": "stream",
     "text": [
      "Final DataFrame has been saved to D:/602_IntroToML/NFLDraftPrediction/Data/nfl_final.csv\n"
     ]
    }
   ],
   "source": [
    "output_filepath = 'D:/602_IntroToML/NFLDraftPrediction/Data/nfl_final.csv'\n",
    "\n",
    "# Write the final DataFrame to a CSV file\n",
    "final_df.to_csv(output_filepath, index=False)\n",
    "\n",
    "print(f\"Final DataFrame has been saved to {output_filepath}\")"
   ]
  },
  {
   "cell_type": "code",
   "execution_count": null,
   "metadata": {},
   "outputs": [],
   "source": []
  }
 ],
 "metadata": {
  "kernelspec": {
   "display_name": "Python 3",
   "language": "python",
   "name": "python3"
  },
  "language_info": {
   "codemirror_mode": {
    "name": "ipython",
    "version": 3
   },
   "file_extension": ".py",
   "mimetype": "text/x-python",
   "name": "python",
   "nbconvert_exporter": "python",
   "pygments_lexer": "ipython3",
   "version": "3.11.4"
  }
 },
 "nbformat": 4,
 "nbformat_minor": 2
}
